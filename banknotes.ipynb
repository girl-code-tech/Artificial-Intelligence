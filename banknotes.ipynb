{
 "cells": [
  {
   "cell_type": "code",
   "execution_count": 5,
   "metadata": {},
   "outputs": [],
   "source": [
    "import csv\n",
    "import random"
   ]
  },
  {
   "cell_type": "code",
   "execution_count": 6,
   "metadata": {},
   "outputs": [],
   "source": [
    "#from sklearn import linear_model\n",
    "from sklearn import svm\n",
    "from sklearn.linear_model import Perceptron\n",
    "from sklearn.neighbors import KNeighborsClassifier"
   ]
  },
  {
   "cell_type": "code",
   "execution_count": 11,
   "metadata": {},
   "outputs": [],
   "source": [
    "model=Perceptron()\n",
    "#model=svm.SVC\n",
    "#model=KNeighborsClassifier(n_neighbors=1)\n",
    "\n",
    "\n",
    "#read data in from  file\n",
    "with open(\"banknotes.csv\") as f:\n",
    "    reader=csv.reader(f)\n",
    "    next(reader)\n",
    "    \n",
    "    data=[]\n",
    "    for row in reader:\n",
    "        data.append({\"evidence\": [float(cell) for cell in row[:4]],\n",
    "                    \"label\": \"Authentic\" if row[4]==\"0\" else \"Counterfeit\"})\n",
    "        \n"
   ]
  },
  {
   "cell_type": "code",
   "execution_count": 12,
   "metadata": {},
   "outputs": [
    {
     "name": "stdout",
     "output_type": "stream",
     "text": [
      "<class 'list'>\n",
      "<class 'list'>\n"
     ]
    }
   ],
   "source": [
    "print(type(data))\n",
    "print(type(data))"
   ]
  },
  {
   "cell_type": "code",
   "execution_count": 20,
   "metadata": {},
   "outputs": [
    {
     "name": "stdout",
     "output_type": "stream",
     "text": [
      "1372\n",
      "548\n"
     ]
    }
   ],
   "source": [
    "#Separate Data into training and testing groups\n",
    "\n",
    "holdout=int(0.40*len(data))\n",
    "random.shuffle(data)\n",
    "testing=data[:holdout]\n",
    "training=data[holdout:]\n",
    "\n",
    "print(len(data))\n",
    "print(len(testing))"
   ]
  },
  {
   "cell_type": "code",
   "execution_count": 21,
   "metadata": {},
   "outputs": [
    {
     "name": "stdout",
     "output_type": "stream",
     "text": [
      "Results for model Perceptron\n",
      "Correct:537\n",
      "InCorrect:11\n",
      "Accuracy:97.99%\n"
     ]
    }
   ],
   "source": [
    "#Train model on training set\n",
    "X_training=[row[\"evidence\"] for row in training]\n",
    "Y_training=[row[\"label\"] for row in training]\n",
    "model.fit(X_training, Y_training)\n",
    "\n",
    "\n",
    "#make predictions on the training dataset\n",
    "X_testing=[row[\"evidence\"] for row in testing]\n",
    "Y_testing=[row[\"label\"] for row in testing]\n",
    "predictions=model.predict(X_testing)\n",
    "\n",
    "\n",
    "#compute how well we performed\n",
    "correct=0\n",
    "incorrect=0\n",
    "total=0\n",
    "for actual, predicted in zip(Y_testing,predictions):\n",
    "    total+=1\n",
    "    if actual==predicted:\n",
    "        correct+=1\n",
    "    else:\n",
    "        incorrect+=1\n",
    "            \n",
    "            \n",
    "            \n",
    "            \n",
    "#print results\n",
    "print(f\"Results for model {type(model).__name__}\")\n",
    "print(f\"Correct:{correct}\")\n",
    "print(f\"InCorrect:{incorrect}\")\n",
    "print(f\"Accuracy:{100*correct/total:.2f}%\")"
   ]
  },
  {
   "cell_type": "code",
   "execution_count": 23,
   "metadata": {},
   "outputs": [],
   "source": [
    "import numpy as np\n",
    "import pandas"
   ]
  },
  {
   "cell_type": "code",
   "execution_count": null,
   "metadata": {},
   "outputs": [],
   "source": []
  },
  {
   "cell_type": "code",
   "execution_count": null,
   "metadata": {},
   "outputs": [],
   "source": []
  },
  {
   "cell_type": "code",
   "execution_count": null,
   "metadata": {},
   "outputs": [],
   "source": []
  },
  {
   "cell_type": "code",
   "execution_count": null,
   "metadata": {},
   "outputs": [],
   "source": []
  },
  {
   "cell_type": "code",
   "execution_count": null,
   "metadata": {},
   "outputs": [],
   "source": []
  },
  {
   "cell_type": "code",
   "execution_count": null,
   "metadata": {},
   "outputs": [],
   "source": []
  },
  {
   "cell_type": "code",
   "execution_count": null,
   "metadata": {},
   "outputs": [],
   "source": []
  },
  {
   "cell_type": "code",
   "execution_count": null,
   "metadata": {},
   "outputs": [],
   "source": []
  },
  {
   "cell_type": "code",
   "execution_count": null,
   "metadata": {},
   "outputs": [],
   "source": []
  },
  {
   "cell_type": "code",
   "execution_count": null,
   "metadata": {},
   "outputs": [],
   "source": []
  },
  {
   "cell_type": "code",
   "execution_count": null,
   "metadata": {},
   "outputs": [],
   "source": []
  },
  {
   "cell_type": "code",
   "execution_count": null,
   "metadata": {},
   "outputs": [],
   "source": []
  },
  {
   "cell_type": "code",
   "execution_count": null,
   "metadata": {},
   "outputs": [],
   "source": []
  },
  {
   "cell_type": "code",
   "execution_count": null,
   "metadata": {},
   "outputs": [],
   "source": []
  }
 ],
 "metadata": {
  "kernelspec": {
   "display_name": "Python 3",
   "language": "python",
   "name": "python3"
  },
  "language_info": {
   "codemirror_mode": {
    "name": "ipython",
    "version": 3
   },
   "file_extension": ".py",
   "mimetype": "text/x-python",
   "name": "python",
   "nbconvert_exporter": "python",
   "pygments_lexer": "ipython3",
   "version": "3.8.8"
  }
 },
 "nbformat": 4,
 "nbformat_minor": 4
}
