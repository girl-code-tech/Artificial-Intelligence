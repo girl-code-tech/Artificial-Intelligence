{
  "nbformat": 4,
  "nbformat_minor": 0,
  "metadata": {
    "colab": {
      "name": "1- Neural Network.ipynb",
      "provenance": [],
      "collapsed_sections": []
    },
    "kernelspec": {
      "name": "python3",
      "display_name": "Python 3"
    },
    "language_info": {
      "name": "python"
    }
  },
  "cells": [
    {
      "cell_type": "markdown",
      "source": [
        "# Neural Network\n",
        "Information starts at the input neurons and travels to the next layers of neurons having whats called a weight and a bias applied to it. These weight and biases start out randomly determined and are tweaked as the network learns and sees more data. After reaching a new layer there is a function applied to each neurons value that is called an activation function."
      ],
      "metadata": {
        "id": "AL2UW3PH69cF"
      }
    },
    {
      "cell_type": "code",
      "execution_count": null,
      "metadata": {
        "id": "5H5zmFmp6CnJ"
      },
      "outputs": [],
      "source": [
        "import tensorflow as tf \n",
        "from tensorflow import keras\n",
        "import numpy as np \n",
        "import matplotlib.pyplot as plt\n",
        "\n",
        "data = keras.datasets.fashion_mnist"
      ]
    },
    {
      "cell_type": "markdown",
      "source": [
        "# Loading Data"
      ],
      "metadata": {
        "id": "bYOIDIXE7qhU"
      }
    },
    {
      "cell_type": "code",
      "source": [
        "(train_images, train_labels), (test_images, test_labels) = data.load_data()"
      ],
      "metadata": {
        "id": "ri0hitjz7JgD"
      },
      "execution_count": null,
      "outputs": []
    },
    {
      "cell_type": "code",
      "source": [
        "class_names = ['T-shirt/top', 'Trouser', 'Pullover', 'Dress', 'Coat',\n",
        "               'Sandal', 'Shirt', 'Sneaker', 'Bag', 'Ankle boot']\n",
        "\n",
        "train_images = train_images/255.0\n",
        "test_images = test_images/255.0\n",
        "\n",
        "# each image is greyscale we are simply scaling the pixel values down to make computations easier for our model."
      ],
      "metadata": {
        "id": "jMXWqVp77SLL"
      },
      "execution_count": null,
      "outputs": []
    },
    {
      "cell_type": "markdown",
      "source": [
        "# Model Building\n",
        "Each Image in Dataset is 28x28, that is 784, so the input filter will be applied 784 neurons, the hidden layer here is 128 neurons, and as the output no of classes are 10, so the output filter be 10 neurons representing the probability of the picture being each of the 10 classes."
      ],
      "metadata": {
        "id": "I7VQw8n071yD"
      }
    },
    {
      "cell_type": "code",
      "source": [
        "model = keras.Sequential([\n",
        "            keras.layers.Flatten(input_shape=(28,28)),\n",
        "            keras.layers.Dense(128, activation='relu'),\n",
        "            keras.layers.Dense(10, activation='softmax')\n",
        "])"
      ],
      "metadata": {
        "id": "99ZYjQuJ7mmj"
      },
      "execution_count": null,
      "outputs": []
    },
    {
      "cell_type": "markdown",
      "source": [
        "# Model Training\n"
      ],
      "metadata": {
        "id": "Y_RCX6r19LSU"
      }
    },
    {
      "cell_type": "code",
      "source": [
        "model.compile(optimizer='adam', loss=\"sparse_categorical_crossentropy\" , metrics=[\"accuracy\"])\n",
        "\n",
        "model.fit(train_images, train_labels, epochs=5)\n",
        "\n",
        "test_loss, test_acc = model.evaluate(test_images, test_labels)\n",
        "\n",
        "print('\\nTest accuracy:', test_acc)"
      ],
      "metadata": {
        "colab": {
          "base_uri": "https://localhost:8080/"
        },
        "id": "CQWlU3Tj9KWq",
        "outputId": "eb3d16e9-36fc-4eb1-bf77-bdf69e6994dc"
      },
      "execution_count": null,
      "outputs": [
        {
          "output_type": "stream",
          "name": "stdout",
          "text": [
            "Epoch 1/5\n",
            "1875/1875 [==============================] - 4s 2ms/step - loss: 0.4989 - accuracy: 0.8248\n",
            "Epoch 2/5\n",
            "1875/1875 [==============================] - 4s 2ms/step - loss: 0.3797 - accuracy: 0.8632\n",
            "Epoch 3/5\n",
            "1875/1875 [==============================] - 4s 2ms/step - loss: 0.3375 - accuracy: 0.8766\n",
            "Epoch 4/5\n",
            "1875/1875 [==============================] - 4s 2ms/step - loss: 0.3160 - accuracy: 0.8836\n",
            "Epoch 5/5\n",
            "1875/1875 [==============================] - 4s 2ms/step - loss: 0.2964 - accuracy: 0.8889\n",
            "313/313 [==============================] - 1s 1ms/step - loss: 0.3500 - accuracy: 0.8772\n",
            "\n",
            "Test accuracy: 0.8772000074386597\n"
          ]
        }
      ]
    },
    {
      "cell_type": "code",
      "source": [
        "predictions = model.predict(test_images)\n",
        "plt.figure(figsize=(5,5))\n",
        "for i in range(5):\n",
        "    plt.grid(False)\n",
        "    plt.imshow(test_images[i], cmap=plt.cm.binary)\n",
        "    plt.xlabel(class_names[test_labels[i]])\n",
        "    plt.title(class_names[np.argmax(predictions[i])])\n",
        "    plt.show()"
      ],
      "metadata": {
        "colab": {
          "base_uri": "https://localhost:8080/",
          "height": 1000
        },
        "id": "-LhLNVdtBfW6",
        "outputId": "732fee86-5fef-417f-c06d-176802381ee1"
      },
      "execution_count": null,
      "outputs": [
        {
          "output_type": "display_data",
          "data": {
            "image/png": "[encoded data removed]",
            "text/plain": [
              "<Figure size 360x360 with 1 Axes>"
            ]
          },
          "metadata": {
            "needs_background": "light"
          }
        },
        {
          "output_type": "display_data",
          "data": {
            "image/png": "[encoded data removed]",
            "text/plain": [
              "<Figure size 432x288 with 1 Axes>"
            ]
          },
          "metadata": {
            "needs_background": "light"
          }
        },
        {
          "output_type": "display_data",
          "data": {
            "image/png": "[encoded data removed]",
            "text/plain": [
              "<Figure size 432x288 with 1 Axes>"
            ]
          },
          "metadata": {
            "needs_background": "light"
          }
        },
        {
          "output_type": "display_data",
          "data": {
            "image/png": "[encoded data removed]",
            "text/plain": [
              "<Figure size 432x288 with 1 Axes>"
            ]
          },
          "metadata": {
            "needs_background": "light"
          }
        },
        {
          "output_type": "display_data",
          "data": {
            "image/png": "[encoded data removed]",
            "text/plain": [
              "<Figure size 432x288 with 1 Axes>"
            ]
          },
          "metadata": {
            "needs_background": "light"
          }
        }
      ]
    },
    {
      "cell_type": "markdown",
      "source": [
        "# Text Classification "
      ],
      "metadata": {
        "id": "4oRg-xoFB9l6"
      }
    },
    {
      "cell_type": "code",
      "source": [
        "import tensorflow as tf\n",
        "from tensorflow import keras\n",
        "import numpy\n",
        "\n",
        "imdb = keras.datasets.imdb #movie dataset\n",
        "\n",
        "(train_data, train_labels), (test_data, test_labels) = imdb.load_data(num_words=10000)"
      ],
      "metadata": {
        "id": "WaPliIsnBq4Z"
      },
      "execution_count": null,
      "outputs": []
    },
    {
      "cell_type": "markdown",
      "source": [
        "each word in our reviews are represented as positive integers where each integer represents a specific word. This is necessary as we cannot pass strings to our neural network. \n",
        "\n",
        "\n",
        "dictionary that maps all of our words to an integer, add some more keys to it like , etc. and then reverse that dictionary so we can use integers as keys that map to each word. The function defied will take as a list the integer encoded reviews and return the human readable version."
      ],
      "metadata": {
        "id": "cOvFbt7ECSYZ"
      }
    },
    {
      "cell_type": "code",
      "source": [
        "# A dictionary mapping words to an integer index\n",
        "_word_index = imdb.get_word_index()\n",
        "\n",
        "#print(_word_index)\n",
        "\n",
        "word_index = {k:(v+3) for k,v in _word_index.items()}\n",
        "word_index[\"<PAD>\"] = 0\n",
        "word_index[\"<START>\"] = 1\n",
        "word_index[\"<UNK>\"] = 2  # unknown\n",
        "word_index[\"<UNUSED>\"] = 3\n",
        "\n",
        "#print(word_index)\n",
        "reverse_word_index = dict([(value, key) for (key, value) in word_index.items()])\n",
        "#print(reverse_word_index)\n",
        "\n",
        "def decode_review(text):\n",
        "\treturn \" \".join([reverse_word_index.get(i, \"?\") for i in text])\n",
        "\n",
        "# this function will return the decoded (human readable) reviews"
      ],
      "metadata": {
        "id": "LhnSNupgCF9Q"
      },
      "execution_count": null,
      "outputs": []
    },
    {
      "cell_type": "code",
      "source": [
        "print(train_data)"
      ],
      "metadata": {
        "colab": {
          "base_uri": "https://localhost:8080/"
        },
        "id": "uSmvtSFkCbnH",
        "outputId": "c0473753-f0d6-41ab-d32b-183d060f8168"
      },
      "execution_count": null,
      "outputs": [
        {
          "output_type": "stream",
          "name": "stdout",
          "text": [
            "[list([1, 14, 22, 16, 43, 530, 973, 1622, 1385, 65, 458, 4468, 66, 3941, 4, 173, 36, 256, 5, 25, 100, 43, 838, 112, 50, 670, 2, 9, 35, 480, 284, 5, 150, 4, 172, 112, 167, 2, 336, 385, 39, 4, 172, 4536, 1111, 17, 546, 38, 13, 447, 4, 192, 50, 16, 6, 147, 2025, 19, 14, 22, 4, 1920, 4613, 469, 4, 22, 71, 87, 12, 16, 43, 530, 38, 76, 15, 13, 1247, 4, 22, 17, 515, 17, 12, 16, 626, 18, 2, 5, 62, 386, 12, 8, 316, 8, 106, 5, 4, 2223, 5244, 16, 480, 66, 3785, 33, 4, 130, 12, 16, 38, 619, 5, 25, 124, 51, 36, 135, 48, 25, 1415, 33, 6, 22, 12, 215, 28, 77, 52, 5, 14, 407, 16, 82, 2, 8, 4, 107, 117, 5952, 15, 256, 4, 2, 7, 3766, 5, 723, 36, 71, 43, 530, 476, 26, 400, 317, 46, 7, 4, 2, 1029, 13, 104, 88, 4, 381, 15, 297, 98, 32, 2071, 56, 26, 141, 6, 194, 7486, 18, 4, 226, 22, 21, 134, 476, 26, 480, 5, 144, 30, 5535, 18, 51, 36, 28, 224, 92, 25, 104, 4, 226, 65, 16, 38, 1334, 88, 12, 16, 283, 5, 16, 4472, 113, 103, 32, 15, 16, 5345, 19, 178, 32])\n",
            " list([1, 194, 1153, 194, 8255, 78, 228, 5, 6, 1463, 4369, 5012, 134, 26, 4, 715, 8, 118, 1634, 14, 394, 20, 13, 119, 954, 189, 102, 5, 207, 110, 3103, 21, 14, 69, 188, 8, 30, 23, 7, 4, 249, 126, 93, 4, 114, 9, 2300, 1523, 5, 647, 4, 116, 9, 35, 8163, 4, 229, 9, 340, 1322, 4, 118, 9, 4, 130, 4901, 19, 4, 1002, 5, 89, 29, 952, 46, 37, 4, 455, 9, 45, 43, 38, 1543, 1905, 398, 4, 1649, 26, 6853, 5, 163, 11, 3215, 2, 4, 1153, 9, 194, 775, 7, 8255, 2, 349, 2637, 148, 605, 2, 8003, 15, 123, 125, 68, 2, 6853, 15, 349, 165, 4362, 98, 5, 4, 228, 9, 43, 2, 1157, 15, 299, 120, 5, 120, 174, 11, 220, 175, 136, 50, 9, 4373, 228, 8255, 5, 2, 656, 245, 2350, 5, 4, 9837, 131, 152, 491, 18, 2, 32, 7464, 1212, 14, 9, 6, 371, 78, 22, 625, 64, 1382, 9, 8, 168, 145, 23, 4, 1690, 15, 16, 4, 1355, 5, 28, 6, 52, 154, 462, 33, 89, 78, 285, 16, 145, 95])\n",
            " list([1, 14, 47, 8, 30, 31, 7, 4, 249, 108, 7, 4, 5974, 54, 61, 369, 13, 71, 149, 14, 22, 112, 4, 2401, 311, 12, 16, 3711, 33, 75, 43, 1829, 296, 4, 86, 320, 35, 534, 19, 263, 4821, 1301, 4, 1873, 33, 89, 78, 12, 66, 16, 4, 360, 7, 4, 58, 316, 334, 11, 4, 1716, 43, 645, 662, 8, 257, 85, 1200, 42, 1228, 2578, 83, 68, 3912, 15, 36, 165, 1539, 278, 36, 69, 2, 780, 8, 106, 14, 6905, 1338, 18, 6, 22, 12, 215, 28, 610, 40, 6, 87, 326, 23, 2300, 21, 23, 22, 12, 272, 40, 57, 31, 11, 4, 22, 47, 6, 2307, 51, 9, 170, 23, 595, 116, 595, 1352, 13, 191, 79, 638, 89, 2, 14, 9, 8, 106, 607, 624, 35, 534, 6, 227, 7, 129, 113])\n",
            " ...\n",
            " list([1, 11, 6, 230, 245, 6401, 9, 6, 1225, 446, 2, 45, 2174, 84, 8322, 4007, 21, 4, 912, 84, 2, 325, 725, 134, 2, 1715, 84, 5, 36, 28, 57, 1099, 21, 8, 140, 8, 703, 5, 2, 84, 56, 18, 1644, 14, 9, 31, 7, 4, 9406, 1209, 2295, 2, 1008, 18, 6, 20, 207, 110, 563, 12, 8, 2901, 2, 8, 97, 6, 20, 53, 4767, 74, 4, 460, 364, 1273, 29, 270, 11, 960, 108, 45, 40, 29, 2961, 395, 11, 6, 4065, 500, 7, 2, 89, 364, 70, 29, 140, 4, 64, 4780, 11, 4, 2678, 26, 178, 4, 529, 443, 2, 5, 27, 710, 117, 2, 8123, 165, 47, 84, 37, 131, 818, 14, 595, 10, 10, 61, 1242, 1209, 10, 10, 288, 2260, 1702, 34, 2901, 2, 4, 65, 496, 4, 231, 7, 790, 5, 6, 320, 234, 2766, 234, 1119, 1574, 7, 496, 4, 139, 929, 2901, 2, 7750, 5, 4241, 18, 4, 8497, 2, 250, 11, 1818, 7561, 4, 4217, 5408, 747, 1115, 372, 1890, 1006, 541, 9303, 7, 4, 59, 2, 4, 3586, 2])\n",
            " list([1, 1446, 7079, 69, 72, 3305, 13, 610, 930, 8, 12, 582, 23, 5, 16, 484, 685, 54, 349, 11, 4120, 2959, 45, 58, 1466, 13, 197, 12, 16, 43, 23, 2, 5, 62, 30, 145, 402, 11, 4131, 51, 575, 32, 61, 369, 71, 66, 770, 12, 1054, 75, 100, 2198, 8, 4, 105, 37, 69, 147, 712, 75, 3543, 44, 257, 390, 5, 69, 263, 514, 105, 50, 286, 1814, 23, 4, 123, 13, 161, 40, 5, 421, 4, 116, 16, 897, 13, 2, 40, 319, 5872, 112, 6700, 11, 4803, 121, 25, 70, 3468, 4, 719, 3798, 13, 18, 31, 62, 40, 8, 7200, 4, 2, 7, 14, 123, 5, 942, 25, 8, 721, 12, 145, 5, 202, 12, 160, 580, 202, 12, 6, 52, 58, 2, 92, 401, 728, 12, 39, 14, 251, 8, 15, 251, 5, 2, 12, 38, 84, 80, 124, 12, 9, 23])\n",
            " list([1, 17, 6, 194, 337, 7, 4, 204, 22, 45, 254, 8, 106, 14, 123, 4, 2, 270, 2, 5, 2, 2, 732, 2098, 101, 405, 39, 14, 1034, 4, 1310, 9, 115, 50, 305, 12, 47, 4, 168, 5, 235, 7, 38, 111, 699, 102, 7, 4, 4039, 9245, 9, 24, 6, 78, 1099, 17, 2345, 2, 21, 27, 9685, 6139, 5, 2, 1603, 92, 1183, 4, 1310, 7, 4, 204, 42, 97, 90, 35, 221, 109, 29, 127, 27, 118, 8, 97, 12, 157, 21, 6789, 2, 9, 6, 66, 78, 1099, 4, 631, 1191, 5, 2642, 272, 191, 1070, 6, 7585, 8, 2197, 2, 2, 544, 5, 383, 1271, 848, 1468, 2, 497, 2, 8, 1597, 8778, 2, 21, 60, 27, 239, 9, 43, 8368, 209, 405, 10, 10, 12, 764, 40, 4, 248, 20, 12, 16, 5, 174, 1791, 72, 7, 51, 6, 1739, 22, 4, 204, 131, 9])]\n"
          ]
        }
      ]
    },
    {
      "cell_type": "markdown",
      "source": [
        "If we have a look at some of our loaded in reviews we'll notice that they are different lengths. This is an issue. We cannot pass different length data into out neural network. Therefore we must make each review the same length. To do this we will follow the procedure below:\n",
        "- if the review is greater than 250 words then trim off the extra words\n",
        "- if the review is less than 250 words add the necessary amount of 's to make it equal to 250."
      ],
      "metadata": {
        "id": "jAf7tc0XDVXa"
      }
    },
    {
      "cell_type": "code",
      "source": [
        "train_data = keras.preprocessing.sequence.pad_sequences(train_data, value=word_index[\"<PAD>\"], padding=\"post\", maxlen=250)\n",
        "test_data = keras.preprocessing.sequence.pad_sequences(test_data, value=word_index[\"<PAD>\"], padding=\"post\", maxlen=250)"
      ],
      "metadata": {
        "id": "pDysqh1qDNwo"
      },
      "execution_count": null,
      "outputs": []
    },
    {
      "cell_type": "code",
      "source": [
        "print(train_data)"
      ],
      "metadata": {
        "colab": {
          "base_uri": "https://localhost:8080/"
        },
        "id": "IgZcBPsTDbaB",
        "outputId": "49f47b4d-6cc5-4487-f981-7157e7ffe502"
      },
      "execution_count": null,
      "outputs": [
        {
          "output_type": "stream",
          "name": "stdout",
          "text": [
            "[[   1   14   22 ...    0    0    0]\n",
            " [   1  194 1153 ...    0    0    0]\n",
            " [   1   14   47 ...    0    0    0]\n",
            " ...\n",
            " [   1   11    6 ...    0    0    0]\n",
            " [   1 1446 7079 ...    0    0    0]\n",
            " [   1   17    6 ...    0    0    0]]\n"
          ]
        }
      ]
    },
    {
      "cell_type": "markdown",
      "source": [
        "# Model Summary"
      ],
      "metadata": {
        "id": "fyfMRHenDryx"
      }
    },
    {
      "cell_type": "code",
      "source": [
        "model = keras.Sequential()\n",
        "model.add(keras.layers.Embedding(88000, 16))\n",
        "model.add(keras.layers.GlobalAveragePooling1D())\n",
        "model.add(keras.layers.Dense(16, activation=\"relu\"))\n",
        "model.add(keras.layers.Dense(1, activation=\"sigmoid\"))\n",
        "\n",
        "model.summary()  # prints a summary of the model"
      ],
      "metadata": {
        "colab": {
          "base_uri": "https://localhost:8080/"
        },
        "id": "zEPwK85oDdpP",
        "outputId": "58ecf74f-9198-490a-948a-8fc22e618d49"
      },
      "execution_count": null,
      "outputs": [
        {
          "output_type": "stream",
          "name": "stdout",
          "text": [
            "Model: \"sequential_3\"\n",
            "_________________________________________________________________\n",
            " Layer (type)                Output Shape              Param #   \n",
            "=================================================================\n",
            " embedding_1 (Embedding)     (None, None, 16)          1408000   \n",
            "                                                                 \n",
            " global_average_pooling1d_1   (None, 16)               0         \n",
            " (GlobalAveragePooling1D)                                        \n",
            "                                                                 \n",
            " dense_6 (Dense)             (None, 16)                272       \n",
            "                                                                 \n",
            " dense_7 (Dense)             (None, 1)                 17        \n",
            "                                                                 \n",
            "=================================================================\n",
            "Total params: 1,408,289\n",
            "Trainable params: 1,408,289\n",
            "Non-trainable params: 0\n",
            "_________________________________________________________________\n"
          ]
        }
      ]
    },
    {
      "cell_type": "markdown",
      "source": [
        "## Word Embeddings\n",
        "Human Readable:\n",
        "Have a great day\n",
        "\n",
        "Have a good day\n",
        "\n",
        "Integer encoded:\n",
        "[0, 1, 2, 3]\n",
        "\n",
        "[0, 1, 4, 3]\n",
        "\n",
        "Mappings: {0: \"Have\", 1: \"a\", 2: \"great\", 3: \"day\", 4: \"good\"}\n",
        "\n",
        "Looking at the sentences above, we as humans know that the two sentences are very similar and pretty well mean the same thing. However when we look at the integer encoded version all we can tell is that the words at index 2 (position 3) are different. We have no idea how different they are.\n",
        "\n",
        "This is where a word embedding layer comes in. We want a way to determine not only the contents of a sentence but the context of the sentence. A word embedding layer will attempt to determine the meaning of each word in the sentence by mapping each word to a position in vector space. If you don't care about the math or don't understand it think of it as just grouping similar words together.\n",
        "\n",
        "An example of something we'd hope an embedding layer would do for us:\n",
        "\n",
        "Maybe \"good\", \"great\", \"fantastic\" and \"awesome\" are placed close to each other and words like \"bad\", \"horrible\", \"sucks\" are placed close together. We'd also hope that these groupings of words are placed far apart from each other representing that they have very different meanings.\n",
        "\n",
        "\n",
        "## GlobalPooling1D Layer\n",
        "This layer is nothing special and simply scales down our data's dimension to make it easier computationally for our model in the later layers. Because our word embedding layer maps thousands and thousands of words to a location in vector space they usually do this in a high dimensional vector space. This means when we get our word vectors from the embedding layer they have multiple dimensions and can be scaled down by this layer.\n",
        "\n",
        "## Dense Layers\n",
        "The last two layers in our network are dense fully connected layers. The output layer is one neuron that uses the sigmoid function to get a value between a 0 and a 1 which will represent the likelihood of the review being positive or negative. The layer before that contains 16 neurons with a relu activation function designed to find patterns between different words present in the review."
      ],
      "metadata": {
        "id": "MSTcw6kkEO_I"
      }
    },
    {
      "cell_type": "code",
      "source": [
        "x_val = train_data[:10000]\n",
        "x_train = train_data[10000:]\n",
        "\n",
        "y_val = train_labels[:10000]\n",
        "y_train = train_labels[10000:]\n",
        "\n",
        "model.compile(optimizer='adam', loss=\"binary_crossentropy\" , metrics=[\"accuracy\"])\n",
        "fitModel = model.fit(x_train, y_train, epochs=40, batch_size=512, validation_data=(x_val, y_val), verbose=1)\n",
        "\n"
      ],
      "metadata": {
        "colab": {
          "base_uri": "https://localhost:8080/"
        },
        "id": "i_ZqdIjSDtgn",
        "outputId": "041ef305-1eca-4607-dec6-fb069f16719f"
      },
      "execution_count": null,
      "outputs": [
        {
          "output_type": "stream",
          "name": "stdout",
          "text": [
            "Epoch 1/40\n",
            "30/30 [==============================] - 2s 39ms/step - loss: 0.6912 - accuracy: 0.5236 - val_loss: 0.6883 - val_accuracy: 0.5749\n",
            "Epoch 2/40\n",
            "30/30 [==============================] - 1s 33ms/step - loss: 0.6828 - accuracy: 0.6612 - val_loss: 0.6773 - val_accuracy: 0.6958\n",
            "Epoch 3/40\n",
            "30/30 [==============================] - 1s 34ms/step - loss: 0.6665 - accuracy: 0.7297 - val_loss: 0.6582 - val_accuracy: 0.7290\n",
            "Epoch 4/40\n",
            "30/30 [==============================] - 1s 34ms/step - loss: 0.6404 - accuracy: 0.7663 - val_loss: 0.6296 - val_accuracy: 0.7624\n",
            "Epoch 5/40\n",
            "30/30 [==============================] - 1s 33ms/step - loss: 0.6045 - accuracy: 0.7925 - val_loss: 0.5927 - val_accuracy: 0.7930\n",
            "Epoch 6/40\n",
            "30/30 [==============================] - 1s 33ms/step - loss: 0.5608 - accuracy: 0.8173 - val_loss: 0.5501 - val_accuracy: 0.8139\n",
            "Epoch 7/40\n",
            "30/30 [==============================] - 1s 33ms/step - loss: 0.5130 - accuracy: 0.8373 - val_loss: 0.5074 - val_accuracy: 0.8257\n",
            "Epoch 8/40\n",
            "30/30 [==============================] - 1s 33ms/step - loss: 0.4665 - accuracy: 0.8514 - val_loss: 0.4672 - val_accuracy: 0.8367\n",
            "Epoch 9/40\n",
            "30/30 [==============================] - 1s 35ms/step - loss: 0.4237 - accuracy: 0.8653 - val_loss: 0.4324 - val_accuracy: 0.8469\n",
            "Epoch 10/40\n",
            "30/30 [==============================] - 1s 33ms/step - loss: 0.3864 - accuracy: 0.8776 - val_loss: 0.4027 - val_accuracy: 0.8520\n",
            "Epoch 11/40\n",
            "30/30 [==============================] - 1s 33ms/step - loss: 0.3545 - accuracy: 0.8853 - val_loss: 0.3788 - val_accuracy: 0.8607\n",
            "Epoch 12/40\n",
            "30/30 [==============================] - 1s 35ms/step - loss: 0.3281 - accuracy: 0.8922 - val_loss: 0.3602 - val_accuracy: 0.8655\n",
            "Epoch 13/40\n",
            "30/30 [==============================] - 1s 33ms/step - loss: 0.3055 - accuracy: 0.8980 - val_loss: 0.3446 - val_accuracy: 0.8693\n",
            "Epoch 14/40\n",
            "30/30 [==============================] - 1s 33ms/step - loss: 0.2858 - accuracy: 0.9035 - val_loss: 0.3324 - val_accuracy: 0.8735\n",
            "Epoch 15/40\n",
            "30/30 [==============================] - 1s 35ms/step - loss: 0.2692 - accuracy: 0.9088 - val_loss: 0.3232 - val_accuracy: 0.8754\n",
            "Epoch 16/40\n",
            "30/30 [==============================] - 1s 34ms/step - loss: 0.2539 - accuracy: 0.9136 - val_loss: 0.3142 - val_accuracy: 0.8793\n",
            "Epoch 17/40\n",
            "30/30 [==============================] - 1s 32ms/step - loss: 0.2400 - accuracy: 0.9187 - val_loss: 0.3074 - val_accuracy: 0.8804\n",
            "Epoch 18/40\n",
            "30/30 [==============================] - 1s 32ms/step - loss: 0.2281 - accuracy: 0.9218 - val_loss: 0.3018 - val_accuracy: 0.8813\n",
            "Epoch 19/40\n",
            "30/30 [==============================] - 1s 33ms/step - loss: 0.2166 - accuracy: 0.9261 - val_loss: 0.2988 - val_accuracy: 0.8815\n",
            "Epoch 20/40\n",
            "30/30 [==============================] - 1s 33ms/step - loss: 0.2064 - accuracy: 0.9296 - val_loss: 0.2939 - val_accuracy: 0.8836\n",
            "Epoch 21/40\n",
            "30/30 [==============================] - 1s 31ms/step - loss: 0.1969 - accuracy: 0.9338 - val_loss: 0.2910 - val_accuracy: 0.8843\n",
            "Epoch 22/40\n",
            "30/30 [==============================] - 1s 33ms/step - loss: 0.1885 - accuracy: 0.9366 - val_loss: 0.2890 - val_accuracy: 0.8845\n",
            "Epoch 23/40\n",
            "30/30 [==============================] - 1s 33ms/step - loss: 0.1805 - accuracy: 0.9417 - val_loss: 0.2870 - val_accuracy: 0.8847\n",
            "Epoch 24/40\n",
            "30/30 [==============================] - 1s 33ms/step - loss: 0.1725 - accuracy: 0.9455 - val_loss: 0.2863 - val_accuracy: 0.8851\n",
            "Epoch 25/40\n",
            "30/30 [==============================] - 1s 34ms/step - loss: 0.1644 - accuracy: 0.9475 - val_loss: 0.2855 - val_accuracy: 0.8860\n",
            "Epoch 26/40\n",
            "30/30 [==============================] - 1s 36ms/step - loss: 0.1576 - accuracy: 0.9510 - val_loss: 0.2856 - val_accuracy: 0.8857\n",
            "Epoch 27/40\n",
            "30/30 [==============================] - 1s 33ms/step - loss: 0.1514 - accuracy: 0.9539 - val_loss: 0.2855 - val_accuracy: 0.8868\n",
            "Epoch 28/40\n",
            "30/30 [==============================] - 1s 32ms/step - loss: 0.1452 - accuracy: 0.9557 - val_loss: 0.2862 - val_accuracy: 0.8857\n",
            "Epoch 29/40\n",
            "30/30 [==============================] - 1s 33ms/step - loss: 0.1389 - accuracy: 0.9584 - val_loss: 0.2872 - val_accuracy: 0.8865\n",
            "Epoch 30/40\n",
            "30/30 [==============================] - 1s 32ms/step - loss: 0.1331 - accuracy: 0.9615 - val_loss: 0.2889 - val_accuracy: 0.8851\n",
            "Epoch 31/40\n",
            "30/30 [==============================] - 1s 33ms/step - loss: 0.1281 - accuracy: 0.9636 - val_loss: 0.2897 - val_accuracy: 0.8865\n",
            "Epoch 32/40\n",
            "30/30 [==============================] - 1s 34ms/step - loss: 0.1230 - accuracy: 0.9651 - val_loss: 0.2927 - val_accuracy: 0.8849\n",
            "Epoch 33/40\n",
            "30/30 [==============================] - 1s 32ms/step - loss: 0.1181 - accuracy: 0.9669 - val_loss: 0.2942 - val_accuracy: 0.8855\n",
            "Epoch 34/40\n",
            "30/30 [==============================] - 1s 34ms/step - loss: 0.1134 - accuracy: 0.9677 - val_loss: 0.2972 - val_accuracy: 0.8844\n",
            "Epoch 35/40\n",
            "30/30 [==============================] - 1s 32ms/step - loss: 0.1091 - accuracy: 0.9702 - val_loss: 0.2992 - val_accuracy: 0.8841\n",
            "Epoch 36/40\n",
            "30/30 [==============================] - 1s 34ms/step - loss: 0.1047 - accuracy: 0.9710 - val_loss: 0.3006 - val_accuracy: 0.8843\n",
            "Epoch 37/40\n",
            "30/30 [==============================] - 1s 32ms/step - loss: 0.1006 - accuracy: 0.9735 - val_loss: 0.3042 - val_accuracy: 0.8837\n",
            "Epoch 38/40\n",
            "30/30 [==============================] - 1s 35ms/step - loss: 0.0967 - accuracy: 0.9747 - val_loss: 0.3076 - val_accuracy: 0.8829\n",
            "Epoch 39/40\n",
            "30/30 [==============================] - 1s 33ms/step - loss: 0.0928 - accuracy: 0.9762 - val_loss: 0.3112 - val_accuracy: 0.8823\n",
            "Epoch 40/40\n",
            "30/30 [==============================] - 1s 34ms/step - loss: 0.0893 - accuracy: 0.9781 - val_loss: 0.3135 - val_accuracy: 0.8816\n"
          ]
        }
      ]
    },
    {
      "cell_type": "code",
      "source": [
        "results = model.evaluate(test_data, test_labels)\n",
        "print(results)"
      ],
      "metadata": {
        "colab": {
          "base_uri": "https://localhost:8080/"
        },
        "id": "g_ZGeEcrE9jP",
        "outputId": "513691ab-3d2e-4e04-bc2b-65525fc3abbc"
      },
      "execution_count": null,
      "outputs": [
        {
          "output_type": "stream",
          "name": "stdout",
          "text": [
            "782/782 [==============================] - 1s 2ms/step - loss: 0.3355 - accuracy: 0.8694\n",
            "[0.33552074432373047, 0.8694400191307068]\n"
          ]
        }
      ]
    },
    {
      "cell_type": "code",
      "source": [
        "test_review = test_data[0]\n",
        "predict = model.evaluate(test_data, test_labels)\n",
        "print(\"Review\")\n",
        "print(decode_review(test_review))\n",
        "print(\"Prediction: \"+str(predict[0]))\n",
        "print(\"Actual: \" + str(test_labels[0]))\n",
        "print(results)"
      ],
      "metadata": {
        "colab": {
          "base_uri": "https://localhost:8080/"
        },
        "id": "yS0bwsSIIlb_",
        "outputId": "2f9925d1-7534-44bc-ae50-ac5790afa295"
      },
      "execution_count": null,
      "outputs": [
        {
          "output_type": "stream",
          "name": "stdout",
          "text": [
            "782/782 [==============================] - 1s 2ms/step - loss: 0.3355 - accuracy: 0.8694\n",
            "Review\n",
            "<START> please give this one a miss br br <UNK> <UNK> and the rest of the cast rendered terrible performances the show is flat flat flat br br i don't know how michael madison could have allowed this one on his plate he almost seemed to know this wasn't going to work out and his performance was quite <UNK> so all you madison fans give this a miss <PAD> <PAD> <PAD> <PAD> <PAD> <PAD> <PAD> <PAD> <PAD> <PAD> <PAD> <PAD> <PAD> <PAD> <PAD> <PAD> <PAD> <PAD> <PAD> <PAD> <PAD> <PAD> <PAD> <PAD> <PAD> <PAD> <PAD> <PAD> <PAD> <PAD> <PAD> <PAD> <PAD> <PAD> <PAD> <PAD> <PAD> <PAD> <PAD> <PAD> <PAD> <PAD> <PAD> <PAD> <PAD> <PAD> <PAD> <PAD> <PAD> <PAD> <PAD> <PAD> <PAD> <PAD> <PAD> <PAD> <PAD> <PAD> <PAD> <PAD> <PAD> <PAD> <PAD> <PAD> <PAD> <PAD> <PAD> <PAD> <PAD> <PAD> <PAD> <PAD> <PAD> <PAD> <PAD> <PAD> <PAD> <PAD> <PAD> <PAD> <PAD> <PAD> <PAD> <PAD> <PAD> <PAD> <PAD> <PAD> <PAD> <PAD> <PAD> <PAD> <PAD> <PAD> <PAD> <PAD> <PAD> <PAD> <PAD> <PAD> <PAD> <PAD> <PAD> <PAD> <PAD> <PAD> <PAD> <PAD> <PAD> <PAD> <PAD> <PAD> <PAD> <PAD> <PAD> <PAD> <PAD> <PAD> <PAD> <PAD> <PAD> <PAD> <PAD> <PAD> <PAD> <PAD> <PAD> <PAD> <PAD> <PAD> <PAD> <PAD> <PAD> <PAD> <PAD> <PAD> <PAD> <PAD> <PAD> <PAD> <PAD> <PAD> <PAD> <PAD> <PAD> <PAD> <PAD> <PAD> <PAD> <PAD> <PAD> <PAD> <PAD> <PAD> <PAD> <PAD> <PAD> <PAD> <PAD> <PAD> <PAD> <PAD> <PAD> <PAD> <PAD> <PAD> <PAD> <PAD> <PAD> <PAD> <PAD> <PAD> <PAD> <PAD> <PAD> <PAD> <PAD> <PAD> <PAD> <PAD> <PAD> <PAD>\n",
            "Prediction: 0.33552074432373047\n",
            "Actual: 0\n",
            "[0.33552074432373047, 0.8694400191307068]\n"
          ]
        }
      ]
    },
    {
      "cell_type": "code",
      "source": [
        ""
      ],
      "metadata": {
        "id": "JUDrU0U2ImKn"
      },
      "execution_count": null,
      "outputs": []
    },
    {
      "cell_type": "code",
      "source": [
        "model.save(\"model.h5\")  # name it whatever you want but end with .h5\n",
        "\n",
        "model = keras.models.load_model(\"model.h5\")\n",
        "\n",
        "def review_encode(s):\n",
        "\tencoded = [1]\n",
        "\n",
        "\tfor word in s:\n",
        "\t\tif word.lower() in word_index:\n",
        "\t\t\tencoded.append(word_index[word.lower()])\n",
        "\t\telse:\n",
        "\t\t\tencoded.append(2)\n",
        "\n",
        "\treturn encoded\n",
        "\n",
        "\n",
        "\n",
        "\n"
      ],
      "metadata": {
        "id": "bkJWkFH7H5hI"
      },
      "execution_count": null,
      "outputs": []
    },
    {
      "cell_type": "code",
      "source": [
        "from google.colab import drive\n",
        "drive.mount('/gdrive')"
      ],
      "metadata": {
        "colab": {
          "base_uri": "https://localhost:8080/"
        },
        "id": "XcFJz_BKKt9A",
        "outputId": "e8f47d45-b95d-4faf-d9d8-1ec41d4dd1c7"
      },
      "execution_count": null,
      "outputs": [
        {
          "output_type": "stream",
          "name": "stdout",
          "text": [
            "Mounted at /gdrive\n"
          ]
        }
      ]
    },
    {
      "cell_type": "code",
      "source": [
        "\n",
        "with open(\"/content/drive/MyDrive/Deep Learning/test.txt\", encoding=\"utf-8\") as f:\n",
        "\tfor line in f.readlines():\n",
        "\t\tnline = line.replace(\",\", \"\").replace(\".\", \"\").replace(\"(\", \"\").replace(\")\", \"\").replace(\":\", \"\").replace(\"\\\"\",\"\").strip().split(\" \")\n",
        "\t\tencode = review_encode(nline)\n",
        "\t\tencode = keras.preprocessing.sequence.pad_sequences([encode], value=word_index[\"<PAD>\"], padding=\"post\", maxlen=250) # make the data 250 words long\n",
        "\t\tpredict = model.predict(encode)\n",
        "\t\tprint(line)\n",
        "\t\tprint(encode)\n",
        "\t\tprint(predict[0])"
      ],
      "metadata": {
        "id": "GGQTFdTAIFzN"
      },
      "execution_count": null,
      "outputs": []
    },
    {
      "cell_type": "code",
      "source": [
        ""
      ],
      "metadata": {
        "id": "zs8Y61wBLCN1"
      },
      "execution_count": null,
      "outputs": []
    }
  ]
}